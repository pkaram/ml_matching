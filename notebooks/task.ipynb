{
 "cells": [
  {
   "cell_type": "code",
   "execution_count": 1,
   "metadata": {},
   "outputs": [],
   "source": [
    "import os\n",
    "import json\n",
    "from pickle import dump\n",
    "from collections import namedtuple\n",
    "import numpy as np\n",
    "import pandas as pd\n",
    "import matplotlib.pyplot as plt\n",
    "\n",
    "from sklearn.model_selection import train_test_split\n",
    "from sklearn.neighbors import KNeighborsClassifier\n",
    "from sklearn.ensemble import RandomForestClassifier\n",
    "from sklearn.preprocessing import StandardScaler\n",
    "from sklearn.metrics import confusion_matrix, accuracy_score\n",
    "\n",
    "LANGUAGE_MAPPING = {'A1':1,'A2':2,'B1':3,'B2':4,'C1':5,'C2':6}\n",
    "DEGREE_MAPPING = {'none':0,'apprenticeship':1,'bachelor':1,'master':2,'doctorate':3}\n",
    "SENIORITY_MAPPING = {'none':0,'junior':1,'midlevel':2,'senior':3}"
   ]
  },
  {
   "cell_type": "markdown",
   "metadata": {},
   "source": [
    "## Load Data"
   ]
  },
  {
   "cell_type": "code",
   "execution_count": 2,
   "metadata": {},
   "outputs": [],
   "source": [
    "project_path = os.getcwd().replace(\"notebooks\",\"\")\n",
    "with open(f'{project_path}/data/data.json') as f:\n",
    "    data = json.load(f)"
   ]
  },
  {
   "cell_type": "code",
   "execution_count": 3,
   "metadata": {},
   "outputs": [],
   "source": [
    "Talent = namedtuple('Talent', ['languages', 'job_roles', 'seniority', 'salary_expectation', 'degree'])\n",
    "Job = namedtuple('Job', ['languages', 'job_roles', 'seniorities', 'max_salary', 'min_degree'])\n",
    "\n",
    "talent = [Talent(**d.get('talent')) for d in data]\n",
    "job = [Job(**d.get('job')) for d in data]\n",
    "label = [d.get('label') for d in data]\n",
    "\n",
    "talent_df = pd.DataFrame(talent)\n",
    "job_df = pd.DataFrame(job)\n",
    "\n",
    "talent_df = talent_df.rename(columns={'languages':'talent_lang','job_roles':'talent_roles'})\n",
    "job_df = job_df.rename(columns={'languages':'job_lang'})"
   ]
  },
  {
   "cell_type": "code",
   "execution_count": 4,
   "metadata": {},
   "outputs": [],
   "source": [
    "df = pd.concat([talent_df, job_df],axis=1)\n",
    "df['label'] = label"
   ]
  },
  {
   "cell_type": "markdown",
   "metadata": {},
   "source": [
    "## Feature Extraction"
   ]
  },
  {
   "cell_type": "code",
   "execution_count": 5,
   "metadata": {},
   "outputs": [],
   "source": [
    "def extract_lang_skills(x,mh_param=True):\n",
    "    if mh_param:\n",
    "        return {i.get('title'):LANGUAGE_MAPPING[i.get('rating')] for i in x if i.get('must_have')}\n",
    "    return {i.get('title'):LANGUAGE_MAPPING[i.get('rating')] for i in x}\n",
    "\n",
    "def meets_lang_requirements(talent_lang, job_lang):\n",
    "    for l in job_lang:\n",
    "        if job_lang.get(l) > talent_lang.get(l,0):\n",
    "            return 0\n",
    "    return 1\n",
    "\n",
    "df['talent_lang'] = df.apply(lambda x: extract_lang_skills(x.talent_lang, False), axis=1)\n",
    "df['job_lang_mh'] = df.apply(lambda x: extract_lang_skills(x.job_lang), axis=1)\n",
    "#we determine whether the language requirements of the job are satisfied by the talent\n",
    "df['lang_reqs_satisfied'] = df.apply(lambda x: meets_lang_requirements(x.talent_lang,x.job_lang_mh), axis=1)"
   ]
  },
  {
   "cell_type": "code",
   "execution_count": 6,
   "metadata": {},
   "outputs": [],
   "source": [
    "#we create a feature to calculate the difference of degree of talent vs of min degree required for the job\n",
    "df['degree_diff'] = df.apply(lambda x: DEGREE_MAPPING[x.get('degree')]-DEGREE_MAPPING[x.get('min_degree')], axis=1)\n",
    "\n",
    "def get_seniority_diff(talent_s, job_s):\n",
    "    job_s = min([SENIORITY_MAPPING.get(i) for i in job_s])\n",
    "    return SENIORITY_MAPPING.get(talent_s) - job_s\n",
    "\n",
    "#similarly we create a feature to calculate the difference of seniority of the talent vs the min seniority requested on on the job\n",
    "df['seniority_diff'] = df.apply(lambda x: get_seniority_diff(x.seniority, x.seniorities), axis=1)\n",
    "\n",
    "#for salary we calculate the difference\n",
    "df['salary_diff'] = df.apply(lambda x: x.max_salary-x.salary_expectation, axis=1)\n",
    "\n",
    "#for roles we calculate the length of the list intersection between job and talent roles\n",
    "def get_intersection(lst1, lst2):\n",
    "    return list(set(lst1).intersection(lst2))\n",
    "\n",
    "df['job_intersection'] = df.apply(lambda x: get_intersection(x.talent_roles,x.job_roles),axis=1)\n",
    "df['job_intersection_len'] = df.apply(lambda x: len(x.job_intersection),axis=1)"
   ]
  },
  {
   "cell_type": "markdown",
   "metadata": {},
   "source": [
    "## Feature Selection & Modelling"
   ]
  },
  {
   "cell_type": "code",
   "execution_count": 7,
   "metadata": {},
   "outputs": [
    {
     "name": "stdout",
     "output_type": "stream",
     "text": [
      "number of data samples:2000, with 1000 true and 1000 false samples\n"
     ]
    }
   ],
   "source": [
    "print(f'number of data samples:{len(df)}, with {sum(df.label)} true and {len(df[~df.label])} false samples')"
   ]
  },
  {
   "cell_type": "code",
   "execution_count": 8,
   "metadata": {},
   "outputs": [],
   "source": [
    "features = ['lang_reqs_satisfied','degree_diff','seniority_diff','salary_diff','job_intersection_len']\n",
    "X_train, X_test, y_train, y_test = train_test_split(df[features],\n",
    "                                                    df.label,                                                \n",
    "                                                    test_size=0.25,\n",
    "                                                    random_state=0)"
   ]
  },
  {
   "cell_type": "markdown",
   "metadata": {},
   "source": [
    "### Knn classifier"
   ]
  },
  {
   "cell_type": "code",
   "execution_count": 9,
   "metadata": {},
   "outputs": [
    {
     "name": "stdout",
     "output_type": "stream",
     "text": [
      "Accuracy: 0.986\n"
     ]
    },
    {
     "data": {
      "text/plain": [
       "array([[240,   6],\n",
       "       [  1, 253]])"
      ]
     },
     "execution_count": 9,
     "metadata": {},
     "output_type": "execute_result"
    }
   ],
   "source": [
    "knn = KNeighborsClassifier()\n",
    "scaler = StandardScaler()\n",
    "\n",
    "X_train_knn = scaler.fit_transform(X_train)\n",
    "X_test_knn = scaler.transform(X_test)\n",
    "\n",
    "knn.fit(X_train_knn, y_train)\n",
    "\n",
    "y_pred = knn.predict(X_test_knn)\n",
    "accuracy = accuracy_score(y_test, y_pred)\n",
    "print(\"Accuracy:\", accuracy)\n",
    "\n",
    "cm = confusion_matrix(y_test, y_pred)\n",
    "cm"
   ]
  },
  {
   "cell_type": "markdown",
   "metadata": {},
   "source": [
    "### Randomforest classifier"
   ]
  },
  {
   "cell_type": "code",
   "execution_count": 10,
   "metadata": {},
   "outputs": [
    {
     "name": "stdout",
     "output_type": "stream",
     "text": [
      "Accuracy: 0.988\n"
     ]
    },
    {
     "data": {
      "text/plain": [
       "array([[245,   1],\n",
       "       [  5, 249]])"
      ]
     },
     "execution_count": 10,
     "metadata": {},
     "output_type": "execute_result"
    }
   ],
   "source": [
    "rf = RandomForestClassifier(random_state=0)\n",
    "rf.fit(X_train, y_train)\n",
    "\n",
    "y_pred = rf.predict(X_test)\n",
    "accuracy = accuracy_score(y_test, y_pred)\n",
    "print(\"Accuracy:\", accuracy)\n",
    "\n",
    "cm = confusion_matrix(y_test, y_pred)\n",
    "cm"
   ]
  },
  {
   "cell_type": "code",
   "execution_count": 11,
   "metadata": {},
   "outputs": [],
   "source": [
    "with open(f'{project_path}/models/rf_model.pkl', 'wb') as model_file:\n",
    "    dump(rf, model_file)"
   ]
  },
  {
   "cell_type": "code",
   "execution_count": 12,
   "metadata": {},
   "outputs": [
    {
     "data": {
      "image/png": "[encoded data removed]",
      "text/plain": [
       "<Figure size 640x480 with 1 Axes>"
      ]
     },
     "metadata": {},
     "output_type": "display_data"
    }
   ],
   "source": [
    "std = np.std([tree.feature_importances_ for tree in rf.estimators_], axis=0)\n",
    "forest_importances = pd.Series(rf.feature_importances_, \n",
    "                               index=rf.feature_names_in_)\n",
    "\n",
    "fig, ax = plt.subplots()\n",
    "forest_importances.plot.bar(yerr=std, ax=ax)\n",
    "ax.set_title(\"Feature importances using MDI\")\n",
    "ax.set_ylabel(\"Mean decrease in impurity\")\n",
    "fig.tight_layout()"
   ]
  },
  {
   "cell_type": "markdown",
   "metadata": {},
   "source": [
    "## Summary points\n",
    "\n",
    "* With the data that we were provided, related to candidate skills and employee requirements, we were able create features that could be used for training a model.\n",
    "* We experimented with classifier models since they can be used to calculate a matching score (probability of belonging to class True) and use the limit of 0.5, since we have a balanced dataset to assign the 'true' or 'false' label.\n",
    "* We selected a knn classifier as a baseline and showed that randomforest can be used as an improvement, which is the model that we save for future use.\n",
    "* For randomforest we can use the MDI plot to review feature importance (the higher the bar the higher the importance of the corresponding feature)."
   ]
  }
 ],
 "metadata": {
  "kernelspec": {
   "display_name": "Python 3.11.7 ('ml_matching')",
   "language": "python",
   "name": "python3"
  },
  "language_info": {
   "codemirror_mode": {
    "name": "ipython",
    "version": 3
   },
   "file_extension": ".py",
   "mimetype": "text/x-python",
   "name": "python",
   "nbconvert_exporter": "python",
   "pygments_lexer": "ipython3",
   "version": "3.11.7"
  },
  "vscode": {
   "interpreter": {
    "hash": "471b42528cc8a9b9f4cda3a8856b0ba6751ed060995c6a79d796e1f82233b67c"
   }
  }
 },
 "nbformat": 4,
 "nbformat_minor": 4
}
